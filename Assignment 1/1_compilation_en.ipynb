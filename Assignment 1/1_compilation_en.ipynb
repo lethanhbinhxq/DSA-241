{
  "nbformat": 4,
  "nbformat_minor": 0,
  "metadata": {
    "colab": {
      "provenance": []
    },
    "kernelspec": {
      "name": "python3",
      "display_name": "Python 3"
    },
    "language_info": {
      "name": "python"
    }
  },
  "cells": [
    {
      "cell_type": "markdown",
      "source": [
        "\n",
        "# Project Compilation Guide"
      ],
      "metadata": {
        "id": "K1jcjz0u3LrZ"
      }
    },
    {
      "cell_type": "markdown",
      "source": [
        "# Download the Project\n",
        "* File ID: ```1hJYcNFfwPyk_u3PwtJ91Hs8Vq6CLcuaH```\n",
        "* Important Notes:\n",
        "  * **Students must not share the source code on Google Drive in the ```anyone with link``` (public) format for download, as shown in this example. Students are also prohibited from \"hosting\" the source code on any Cloud platform in a public manner.**\n",
        "  * If students wish to use Google Colab for programming, they should follow the instructions in the **mount: connect with GDrive** section to avoid sharing in the ```anyone with link``` format.\n"
      ],
      "metadata": {
        "id": "ZDIqT7kbSNKD"
      }
    },
    {
      "cell_type": "code",
      "execution_count": null,
      "metadata": {
        "colab": {
          "base_uri": "https://localhost:8080/"
        },
        "id": "yCIZfpp72wv1",
        "outputId": "070f25ba-441f-4c97-8c3f-a004d93e52e0"
      },
      "outputs": [
        {
          "output_type": "stream",
          "name": "stdout",
          "text": [
            "====================INFO====================\n",
            "Current Folder:\n",
            "/content\n",
            "CPP code: stored in ./dsatutorials\n",
            "============================================\n"
          ]
        },
        {
          "output_type": "execute_result",
          "data": {
            "text/plain": []
          },
          "metadata": {},
          "execution_count": 181
        }
      ],
      "source": [
        "%%shell\n",
        "rm -f dsatutorialv3.zip\n",
        "rm -rf ./dsatutorials/\n",
        "mkdir ./dsatutorials/\n",
        "#pip -q install --upgrade --no-cache-dir gdown\n",
        "gdown -q 1hJYcNFfwPyk_u3PwtJ91Hs8Vq6CLcuaH\n",
        "unzip -q dsatutorialv3.zip -d dsatutorials\n",
        "echo '====================INFO===================='\n",
        "echo 'Current Folder:' & echo `pwd`\n",
        "echo 'CPP code: stored in ./dsatutorials'\n",
        "echo '============================================'"
      ]
    },
    {
      "cell_type": "markdown",
      "source": [
        "# Project Structure\n",
        "* The structure of projects in the major assignments is similar to the project in this example.\n",
        "* The project directory in this example is: ```./dsatutorials/```. Students may change this directory name. The contents inside the project folder are described as follows:\n",
        "  * ```include```: this folder contains all the header files of the project, including:\n",
        "    * ```include/list```: contains headers for the list implementation. Note that according to C++ regulations, all generic classes (using templates) must be in header format, with source code exposed. Therefore, not only ```list```, but all other data structures in this course will be in ```header-file``` format.\n",
        "    * Other data structures include: ```include/stacknqueue```, ```include/hash```, ```include/heap```, ```include/graph```, ```include/tree```, ```include/sorting```.\n",
        "    * ```include/loader```: contains the implementation for ```dataset``` and ```dataloader``` for Major Assignment 01. Note: the corresponding source code for these headers is located in ```src/loader```.\n",
        "    * ```include/ann```: contains the implementation for neural networks and deep learning for Major Assignments 02 and 03. Note: the corresponding source code for these headers is located in ```src/ann```.\n",
        "    * ```include/tensor```: contains the header for the ```xtensor``` library.\n",
        "    * ```include/sformat```: contains the header for the ```fmt``` library used for string formatting.\n",
        "  * ```src```: contains the source code, including:\n",
        "    * **```main.cpp```**: is the file containing the **main** function, the entry point of the project.\n",
        "    * Contains the implementation of the neural network (```src/ann```), data-loader (```src/loader```), and extension functions for the **xtensor** library (```src/tensor```).\n",
        "  * The ```Makefile``` file: supports compilation through the following commands:\n",
        "    * ```make```\n",
        "    * ```make clean```\n",
        "\n",
        "* Note:\n",
        "  * The implementation source code has been removed.\n",
        "  * Therefore, the classes ```SampleA, SampleB, SampleT``` are used as illustrations for how to compile the project."
      ],
      "metadata": {
        "id": "9DbmVU7tUEDJ"
      }
    },
    {
      "cell_type": "code",
      "source": [
        "%%shell\n",
        "echo \"dsatutorials: contents\"\n",
        "ls -l dsatutorials/\n",
        "\n",
        "echo\n",
        "echo \"dsatutorials/src: contents\"\n",
        "echo \"main.cpp: contains the main function\"\n",
        "ls -l dsatutorials/src/\n",
        "\n",
        "echo\n",
        "echo \"dsatutorials/include: contents\"\n",
        "ls -l dsatutorials/include/"
      ],
      "metadata": {
        "colab": {
          "base_uri": "https://localhost:8080/"
        },
        "id": "HeyGNx3TQRes",
        "outputId": "b0358cc7-c8a7-4cd8-8b59-f49b47a0a424"
      },
      "execution_count": null,
      "outputs": [
        {
          "output_type": "stream",
          "name": "stdout",
          "text": [
            "dsatutorials: contents\n",
            "total 12\n",
            "drwxr-xr-x 13 root root 4096 Sep 27 03:42 include\n",
            "-rw-r--r--  1 root root 1281 Sep 27 11:27 Makefile\n",
            "drwxr-xr-x  4 root root 4096 Sep 27 10:58 src\n",
            "\n",
            "dsatutorials/src: contents\n",
            "main.cpp: contains the main function\n",
            "total 12\n",
            "drwxr-xr-x 2 root root 4096 Sep 27 03:36 ann\n",
            "-rw-r--r-- 1 root root  443 Sep 27 03:58 main.cpp\n",
            "drwxr-xr-x 2 root root 4096 Sep 27 03:37 tensor\n",
            "\n",
            "dsatutorials/include: contents\n",
            "total 44\n",
            "drwxr-xr-x 2 root root 4096 Sep 27 03:36 ann\n",
            "drwxr-xr-x 2 root root 4096 Sep 27 11:19 graph\n",
            "drwxr-xr-x 2 root root 4096 Sep 27 11:19 hash\n",
            "drwxr-xr-x 2 root root 4096 Sep 27 11:19 heap\n",
            "drwxr-xr-x 2 root root 4096 Sep 27 00:16 list\n",
            "drwxr-xr-x 2 root root 4096 Sep 27 02:53 loader\n",
            "drwxr-xr-x 3 root root 4096 Sep 26 15:25 sformat\n",
            "drwxr-xr-x 2 root root 4096 Sep 27 11:18 stacknqueue\n",
            "drwxr-xr-x 6 root root 4096 Sep 27 03:37 tensor\n",
            "drwxr-xr-x 2 root root 4096 Sep 27 11:19 tree\n",
            "drwxr-xr-x 2 root root 4096 Sep 27 03:42 util\n"
          ]
        },
        {
          "output_type": "execute_result",
          "data": {
            "text/plain": []
          },
          "metadata": {},
          "execution_count": 190
        }
      ]
    },
    {
      "cell_type": "markdown",
      "source": [
        "# Compilation and Execution\n"
      ],
      "metadata": {
        "id": "tF01YHiNe4j7"
      }
    },
    {
      "cell_type": "markdown",
      "source": [
        "## Using Makefile\n",
        "* Use the **Makefile** described above.\n",
        "* The usage is as follows.\n",
        "* Note: To use the Makefile with newly created files, students should create files as follows:\n",
        "  * If students want to create a new header file, they should add it to the ```include``` directory.\n",
        "  * If students want to create a new ```*.cpp``` file, they should add it to the ```src``` directory.\n"
      ],
      "metadata": {
        "id": "Z_YsVjA5e7Nx"
      }
    },
    {
      "cell_type": "code",
      "source": [
        "%%shell\n",
        "cd dsatutorials\n",
        "make clean # should be commented => compile modified files only\n",
        "make"
      ],
      "metadata": {
        "colab": {
          "base_uri": "https://localhost:8080/"
        },
        "id": "0L0g3P1kRUZP",
        "outputId": "18667c7f-dee9-4dd0-e60d-2940417cf765"
      },
      "execution_count": null,
      "outputs": [
        {
          "output_type": "stream",
          "name": "stdout",
          "text": [
            "rm -rf program\n",
            "rm -rf obj\n",
            "mkdir -p obj/\n",
            "g++ -std=c++17 -pthread  -Iinclude -Iinclude/tensor -Iinclude/sformat -Isrc -c   src/main.cpp -o obj/main.o\n",
            "mkdir -p obj/ann/\n",
            "g++ -std=c++17 -pthread  -Iinclude -Iinclude/tensor -Iinclude/sformat -Isrc -c   src/ann/SampleB.cpp -o obj/ann/SampleB.o\n",
            "mkdir -p obj/ann/\n",
            "g++ -std=c++17 -pthread  -Iinclude -Iinclude/tensor -Iinclude/sformat -Isrc -c   src/ann/SampleA.cpp -o obj/ann/SampleA.o\n",
            "mkdir -p obj/tensor/\n",
            "g++ -std=c++17 -pthread  -Iinclude -Iinclude/tensor -Iinclude/sformat -Isrc -c   src/tensor/xtensor_lib.cpp -o obj/tensor/xtensor_lib.o\n",
            "mkdir -p obj/tensor/\n",
            "g++ -std=c++17 -pthread  -Iinclude -Iinclude/tensor -Iinclude/sformat -Isrc -c   src/tensor/SampleT.cpp -o obj/tensor/SampleT.o\n",
            "g++ -std=c++17 -pthread  -Iinclude -Iinclude/tensor -Iinclude/sformat -Isrc   obj/main.o  obj/ann/SampleB.o  obj/ann/SampleA.o  obj/tensor/xtensor_lib.o  obj/tensor/SampleT.o -o program -lm -lpthread \n"
          ]
        },
        {
          "output_type": "execute_result",
          "data": {
            "text/plain": []
          },
          "metadata": {},
          "execution_count": 194
        }
      ]
    },
    {
      "cell_type": "code",
      "source": [
        "!dsatutorials/program"
      ],
      "metadata": {
        "colab": {
          "base_uri": "https://localhost:8080/"
        },
        "id": "6M2GcR-TSGTx",
        "outputId": "c6f7f44e-1c0d-433e-b4c4-bd6c430d3a66"
      },
      "execution_count": null,
      "outputs": [
        {
          "output_type": "stream",
          "name": "stdout",
          "text": [
            "An Instance of SampleA\n",
            "An Instance of SampleB\n",
            "An Instance of SampleT\n"
          ]
        }
      ]
    },
    {
      "cell_type": "markdown",
      "source": [
        "## Compilation Using Commands"
      ],
      "metadata": {
        "id": "YTUxL5RQgEfw"
      }
    },
    {
      "cell_type": "code",
      "source": [
        "%%shell\n",
        "# Compile\n",
        "INCLUDE1=\"dsatutorials/include\"\n",
        "INCLUDE2=\"dsatutorials/include/tensor\"\n",
        "INCLUDE3=\"dsatutorials/include/sformat\"\n",
        "SRC1=\"dsatutorials/src/ann/\"\n",
        "SRC2=\"dsatutorials/src/tensor/\"\n",
        "MAIN=\"dsatutorials/src/main.cpp\"\n",
        "g++ -std=c++17 -I \"$INCLUDE1\" -I \"$INCLUDE2\" -I \"$INCLUDE2\" \"$SRC1\"/*.cpp \"$SRC2\"/*.cpp \"$MAIN\"  -o program\n",
        "\n",
        "# Run\n",
        "./program"
      ],
      "metadata": {
        "id": "I34bsP8odFfw",
        "colab": {
          "base_uri": "https://localhost:8080/"
        },
        "outputId": "4dbf206e-dd9f-4b91-a1c7-4d83a5065114"
      },
      "execution_count": null,
      "outputs": [
        {
          "output_type": "stream",
          "name": "stdout",
          "text": [
            "An Instance of SampleA\n",
            "An Instance of SampleB\n",
            "An Instance of SampleT\n"
          ]
        },
        {
          "output_type": "execute_result",
          "data": {
            "text/plain": []
          },
          "metadata": {},
          "execution_count": 197
        }
      ]
    },
    {
      "cell_type": "markdown",
      "source": [
        "# mount: to link with GDrive"
      ],
      "metadata": {
        "id": "bKykbG-vgwaf"
      }
    },
    {
      "cell_type": "markdown",
      "source": [
        "## Mounting with GDrive\n",
        "* Note:\n",
        "  * After a successful ```mount```, students should copy data from Drive to the server machine or vice versa, and should immediately ```unmount``` to avoid accidentally deleting data on Drive.\n",
        "  "
      ],
      "metadata": {
        "id": "KNgtefDRhH5k"
      }
    },
    {
      "cell_type": "code",
      "source": [
        "from google.colab import drive\n",
        "drive.mount('/content/drive/', force_remount=True)"
      ],
      "metadata": {
        "colab": {
          "base_uri": "https://localhost:8080/"
        },
        "id": "r3OZjwTrA174",
        "outputId": "b581bf35-47e3-4716-e4dd-4ebaa384fe5a"
      },
      "execution_count": null,
      "outputs": [
        {
          "output_type": "stream",
          "name": "stdout",
          "text": [
            "Mounted at /content/drive/\n"
          ]
        }
      ]
    },
    {
      "cell_type": "markdown",
      "source": [
        "## Copy Files\n",
        "* Note:\n",
        "  * The directory on Drive depends on how students organize their files. The directory below is for illustration purposes only.\n",
        "  * After copying their project to the server (the machine provided by Google), students should use the ```unzip``` command to extract their project. It is advisable to refer to the first section for instructions on using ```zip``` and organizing project source code."
      ],
      "metadata": {
        "id": "qyFFfIBBhZAZ"
      }
    },
    {
      "cell_type": "code",
      "source": [
        "%%shell\n",
        "\n",
        "cp \"/content/drive/MyDrive/Courses/DSA241/Samples/dsatutorialv3.zip\" ./dsatutorials.zip"
      ],
      "metadata": {
        "colab": {
          "base_uri": "https://localhost:8080/"
        },
        "id": "OnHppvUChOSl",
        "outputId": "6689eebc-9c5b-41d6-9bd1-2694b85e29b5"
      },
      "execution_count": null,
      "outputs": [
        {
          "output_type": "execute_result",
          "data": {
            "text/plain": []
          },
          "metadata": {},
          "execution_count": 202
        }
      ]
    },
    {
      "cell_type": "markdown",
      "source": [
        "## unmount\n"
      ],
      "metadata": {
        "id": "PzClNee4jbx0"
      }
    },
    {
      "cell_type": "code",
      "source": [
        "from google.colab import drive\n",
        "drive.flush_and_unmount()"
      ],
      "metadata": {
        "id": "EX_-6jk5hvcm"
      },
      "execution_count": null,
      "outputs": []
    }
  ]
}